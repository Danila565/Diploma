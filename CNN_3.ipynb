{
  "cells": [
    {
      "cell_type": "markdown",
      "metadata": {
        "id": "view-in-github",
        "colab_type": "text"
      },
      "source": [
        "<a href=\"https://colab.research.google.com/github/Danila565/Diploma/blob/main/CNN_3.ipynb\" target=\"_parent\"><img src=\"https://colab.research.google.com/assets/colab-badge.svg\" alt=\"Open In Colab\"/></a>"
      ]
    },
    {
      "cell_type": "code",
      "execution_count": 1,
      "id": "0ea2ece4",
      "metadata": {
        "id": "0ea2ece4"
      },
      "outputs": [],
      "source": [
        "import tensorflow as tf\n",
        "from tensorflow.keras import layers\n",
        "import pandas as pd\n",
        "import numpy as np\n",
        "from sklearn.utils import shuffle"
      ]
    },
    {
      "cell_type": "code",
      "execution_count": 2,
      "id": "7bce1d42",
      "metadata": {
        "id": "7bce1d42"
      },
      "outputs": [],
      "source": [
        "from sklearn.metrics import accuracy_score, precision_score, recall_score, f1_score"
      ]
    },
    {
      "cell_type": "code",
      "source": [
        "!pip install navec\n",
        "!pip install pymorphy2\n",
        "!pip install keras_preprocessing"
      ],
      "metadata": {
        "id": "ChA0plC4Vd8F"
      },
      "id": "ChA0plC4Vd8F",
      "execution_count": null,
      "outputs": []
    },
    {
      "cell_type": "code",
      "execution_count": 4,
      "id": "50e5e52f",
      "metadata": {
        "id": "50e5e52f"
      },
      "outputs": [],
      "source": [
        "from keras.models import Sequential, load_model\n",
        "from keras.layers import Dense, Dropout, Flatten, Embedding, GlobalMaxPooling1D, LSTM\n",
        "from keras.layers.convolutional import Conv1D, MaxPooling1D\n",
        "from keras.preprocessing.text import Tokenizer\n",
        "from sklearn.model_selection import train_test_split\n",
        "from navec import Navec\n",
        "from keras_preprocessing.sequence import pad_sequences\n",
        "from tensorflow.keras import regularizers\n",
        "from tensorflow.keras.utils import to_categorical"
      ]
    },
    {
      "cell_type": "code",
      "execution_count": 5,
      "id": "fa62a09c",
      "metadata": {
        "id": "fa62a09c"
      },
      "outputs": [],
      "source": [
        "from pymorphy2 import MorphAnalyzer\n",
        "from nltk.corpus import stopwords\n",
        "import re"
      ]
    },
    {
      "cell_type": "code",
      "source": [
        "import nltk\n",
        "nltk.download('averaged_perceptron_tagger')\n",
        "nltk.download('stopwords')"
      ],
      "metadata": {
        "colab": {
          "base_uri": "https://localhost:8080/"
        },
        "id": "eSxlw8FoQC96",
        "outputId": "7e314618-4267-4e90-9d85-f715fe52e5ff"
      },
      "id": "eSxlw8FoQC96",
      "execution_count": 6,
      "outputs": [
        {
          "output_type": "stream",
          "name": "stderr",
          "text": [
            "[nltk_data] Downloading package averaged_perceptron_tagger to\n",
            "[nltk_data]     /root/nltk_data...\n",
            "[nltk_data]   Unzipping taggers/averaged_perceptron_tagger.zip.\n",
            "[nltk_data] Downloading package stopwords to /root/nltk_data...\n",
            "[nltk_data]   Unzipping corpora/stopwords.zip.\n"
          ]
        },
        {
          "output_type": "execute_result",
          "data": {
            "text/plain": [
              "True"
            ]
          },
          "metadata": {},
          "execution_count": 6
        }
      ]
    },
    {
      "cell_type": "code",
      "source": [
        "from google.colab import drive\n",
        "drive.mount('/content/drive')"
      ],
      "metadata": {
        "colab": {
          "base_uri": "https://localhost:8080/"
        },
        "id": "g-0LBqKBEB7b",
        "outputId": "ae25d3ae-52b4-449a-892e-cd15fd6638a0"
      },
      "id": "g-0LBqKBEB7b",
      "execution_count": 7,
      "outputs": [
        {
          "output_type": "stream",
          "name": "stdout",
          "text": [
            "Mounted at /content/drive\n"
          ]
        }
      ]
    },
    {
      "cell_type": "code",
      "execution_count": 8,
      "id": "0710d72c",
      "metadata": {
        "id": "0710d72c"
      },
      "outputs": [],
      "source": [
        "# Load the data\n",
        "df = pd.read_csv(\"/content/drive/MyDrive/Диплом/90000_preprocess.csv\")"
      ]
    },
    {
      "cell_type": "code",
      "source": [
        "df2.drop(columns=['preprocess', 'tweet_text'], inplace=True)\n",
        "df2.rename(columns={'augmented_text':'tweet_text'}, inplace=True)\n",
        "df2.head()"
      ],
      "metadata": {
        "colab": {
          "base_uri": "https://localhost:8080/",
          "height": 206
        },
        "id": "YwRtgc7fQMQb",
        "outputId": "506873d6-f62f-4d1e-bf18-b0ce24eb0165"
      },
      "id": "YwRtgc7fQMQb",
      "execution_count": null,
      "outputs": [
        {
          "output_type": "execute_result",
          "data": {
            "text/plain": [
              "   tweet_id  label                                         tweet_text\n",
              "0   43941.0      2  ['Интересный. вакцин Если в регионах хватает, ...\n",
              "1   61807.0      2  ['В - мои 19 все комиссионные снижены теперь н...\n",
              "2   82914.0      2  ['Наша собственная Майнор Кристи рассказывает ...\n",
              "3   58912.0      2  ['Всегда # Plymouth нравился https: / / t. co ...\n",
              "4  170721.0      2  ['[ | Виктор ], волнуйтесь не придет британска..."
            ],
            "text/html": [
              "\n",
              "  <div id=\"df-834aa79c-2e32-4067-a45f-dde808972977\">\n",
              "    <div class=\"colab-df-container\">\n",
              "      <div>\n",
              "<style scoped>\n",
              "    .dataframe tbody tr th:only-of-type {\n",
              "        vertical-align: middle;\n",
              "    }\n",
              "\n",
              "    .dataframe tbody tr th {\n",
              "        vertical-align: top;\n",
              "    }\n",
              "\n",
              "    .dataframe thead th {\n",
              "        text-align: right;\n",
              "    }\n",
              "</style>\n",
              "<table border=\"1\" class=\"dataframe\">\n",
              "  <thead>\n",
              "    <tr style=\"text-align: right;\">\n",
              "      <th></th>\n",
              "      <th>tweet_id</th>\n",
              "      <th>label</th>\n",
              "      <th>tweet_text</th>\n",
              "    </tr>\n",
              "  </thead>\n",
              "  <tbody>\n",
              "    <tr>\n",
              "      <th>0</th>\n",
              "      <td>43941.0</td>\n",
              "      <td>2</td>\n",
              "      <td>['Интересный. вакцин Если в регионах хватает, ...</td>\n",
              "    </tr>\n",
              "    <tr>\n",
              "      <th>1</th>\n",
              "      <td>61807.0</td>\n",
              "      <td>2</td>\n",
              "      <td>['В - мои 19 все комиссионные снижены теперь н...</td>\n",
              "    </tr>\n",
              "    <tr>\n",
              "      <th>2</th>\n",
              "      <td>82914.0</td>\n",
              "      <td>2</td>\n",
              "      <td>['Наша собственная Майнор Кристи рассказывает ...</td>\n",
              "    </tr>\n",
              "    <tr>\n",
              "      <th>3</th>\n",
              "      <td>58912.0</td>\n",
              "      <td>2</td>\n",
              "      <td>['Всегда # Plymouth нравился https: / / t. co ...</td>\n",
              "    </tr>\n",
              "    <tr>\n",
              "      <th>4</th>\n",
              "      <td>170721.0</td>\n",
              "      <td>2</td>\n",
              "      <td>['[ | Виктор ], волнуйтесь не придет британска...</td>\n",
              "    </tr>\n",
              "  </tbody>\n",
              "</table>\n",
              "</div>\n",
              "      <button class=\"colab-df-convert\" onclick=\"convertToInteractive('df-834aa79c-2e32-4067-a45f-dde808972977')\"\n",
              "              title=\"Convert this dataframe to an interactive table.\"\n",
              "              style=\"display:none;\">\n",
              "        \n",
              "  <svg xmlns=\"http://www.w3.org/2000/svg\" height=\"24px\"viewBox=\"0 0 24 24\"\n",
              "       width=\"24px\">\n",
              "    <path d=\"M0 0h24v24H0V0z\" fill=\"none\"/>\n",
              "    <path d=\"M18.56 5.44l.94 2.06.94-2.06 2.06-.94-2.06-.94-.94-2.06-.94 2.06-2.06.94zm-11 1L8.5 8.5l.94-2.06 2.06-.94-2.06-.94L8.5 2.5l-.94 2.06-2.06.94zm10 10l.94 2.06.94-2.06 2.06-.94-2.06-.94-.94-2.06-.94 2.06-2.06.94z\"/><path d=\"M17.41 7.96l-1.37-1.37c-.4-.4-.92-.59-1.43-.59-.52 0-1.04.2-1.43.59L10.3 9.45l-7.72 7.72c-.78.78-.78 2.05 0 2.83L4 21.41c.39.39.9.59 1.41.59.51 0 1.02-.2 1.41-.59l7.78-7.78 2.81-2.81c.8-.78.8-2.07 0-2.86zM5.41 20L4 18.59l7.72-7.72 1.47 1.35L5.41 20z\"/>\n",
              "  </svg>\n",
              "      </button>\n",
              "      \n",
              "  <style>\n",
              "    .colab-df-container {\n",
              "      display:flex;\n",
              "      flex-wrap:wrap;\n",
              "      gap: 12px;\n",
              "    }\n",
              "\n",
              "    .colab-df-convert {\n",
              "      background-color: #E8F0FE;\n",
              "      border: none;\n",
              "      border-radius: 50%;\n",
              "      cursor: pointer;\n",
              "      display: none;\n",
              "      fill: #1967D2;\n",
              "      height: 32px;\n",
              "      padding: 0 0 0 0;\n",
              "      width: 32px;\n",
              "    }\n",
              "\n",
              "    .colab-df-convert:hover {\n",
              "      background-color: #E2EBFA;\n",
              "      box-shadow: 0px 1px 2px rgba(60, 64, 67, 0.3), 0px 1px 3px 1px rgba(60, 64, 67, 0.15);\n",
              "      fill: #174EA6;\n",
              "    }\n",
              "\n",
              "    [theme=dark] .colab-df-convert {\n",
              "      background-color: #3B4455;\n",
              "      fill: #D2E3FC;\n",
              "    }\n",
              "\n",
              "    [theme=dark] .colab-df-convert:hover {\n",
              "      background-color: #434B5C;\n",
              "      box-shadow: 0px 1px 3px 1px rgba(0, 0, 0, 0.15);\n",
              "      filter: drop-shadow(0px 1px 2px rgba(0, 0, 0, 0.3));\n",
              "      fill: #FFFFFF;\n",
              "    }\n",
              "  </style>\n",
              "\n",
              "      <script>\n",
              "        const buttonEl =\n",
              "          document.querySelector('#df-834aa79c-2e32-4067-a45f-dde808972977 button.colab-df-convert');\n",
              "        buttonEl.style.display =\n",
              "          google.colab.kernel.accessAllowed ? 'block' : 'none';\n",
              "\n",
              "        async function convertToInteractive(key) {\n",
              "          const element = document.querySelector('#df-834aa79c-2e32-4067-a45f-dde808972977');\n",
              "          const dataTable =\n",
              "            await google.colab.kernel.invokeFunction('convertToInteractive',\n",
              "                                                     [key], {});\n",
              "          if (!dataTable) return;\n",
              "\n",
              "          const docLinkHtml = 'Like what you see? Visit the ' +\n",
              "            '<a target=\"_blank\" href=https://colab.research.google.com/notebooks/data_table.ipynb>data table notebook</a>'\n",
              "            + ' to learn more about interactive tables.';\n",
              "          element.innerHTML = '';\n",
              "          dataTable['output_type'] = 'display_data';\n",
              "          await google.colab.output.renderOutput(dataTable, element);\n",
              "          const docLink = document.createElement('div');\n",
              "          docLink.innerHTML = docLinkHtml;\n",
              "          element.appendChild(docLink);\n",
              "        }\n",
              "      </script>\n",
              "    </div>\n",
              "  </div>\n",
              "  "
            ]
          },
          "metadata": {},
          "execution_count": 79
        }
      ]
    },
    {
      "cell_type": "code",
      "execution_count": 9,
      "id": "9b5c54af",
      "metadata": {
        "id": "9b5c54af"
      },
      "outputs": [],
      "source": [
        "navec_model  = Navec.load('/content/drive/MyDrive/Диплом/navec_hudlit_v1_12B_500K_300d_100q.tar')"
      ]
    },
    {
      "cell_type": "code",
      "execution_count": null,
      "id": "b484522b",
      "metadata": {
        "id": "b484522b"
      },
      "outputs": [],
      "source": [
        "patterns = \"[0-9!#$%&'()*+,./:;<=>?@[\\]^_`{|}~—\\\"\\-]+\"\n",
        "stopwords_ru = stopwords.words(\"russian\")\n",
        "morph = MorphAnalyzer()\n",
        "\n",
        "def preprocess_text(text):\n",
        "    text = re.sub(patterns, ' ', text)\n",
        "    words = text.lower().split()\n",
        "    words = [morph.parse(word)[0].normal_form for word in words]\n",
        "    words = [word for word in words if word not in stopwords_ru]\n",
        "    return ' '.join(words)\n",
        "\n",
        "df['preprocess'] = df['tweet_text'].apply(preprocess_text)"
      ]
    },
    {
      "cell_type": "code",
      "execution_count": null,
      "id": "adf08264",
      "metadata": {
        "id": "adf08264"
      },
      "outputs": [],
      "source": [
        "df['preprocess'] = df['tweet_text'].apply(preprocess_text)"
      ]
    },
    {
      "cell_type": "code",
      "execution_count": null,
      "id": "d1792843",
      "metadata": {
        "id": "d1792843"
      },
      "outputs": [],
      "source": [
        "df.to_csv('/content/drive/MyDrive/Диплом/90000_preprocess.csv', index=False)"
      ]
    },
    {
      "cell_type": "code",
      "source": [
        "df = df.dropna()"
      ],
      "metadata": {
        "id": "VaKCcpowZTKB"
      },
      "id": "VaKCcpowZTKB",
      "execution_count": null,
      "outputs": []
    },
    {
      "cell_type": "code",
      "execution_count": null,
      "id": "6346c593",
      "metadata": {
        "id": "6346c593"
      },
      "outputs": [],
      "source": [
        "import matplotlib.pyplot as plt\n",
        "\n",
        "# создаем список длин строк из столбца dataframe\n",
        "string_lengths = [len(i) for i in df['preprocess']]"
      ]
    },
    {
      "cell_type": "code",
      "source": [
        "len(string_lengths)"
      ],
      "metadata": {
        "colab": {
          "base_uri": "https://localhost:8080/"
        },
        "id": "3RdSl4lojPoY",
        "outputId": "c41046a2-e9c6-48a2-d50c-cc4d0ef7d3d5"
      },
      "id": "3RdSl4lojPoY",
      "execution_count": null,
      "outputs": [
        {
          "output_type": "execute_result",
          "data": {
            "text/plain": [
              "90164"
            ]
          },
          "metadata": {},
          "execution_count": 11
        }
      ]
    },
    {
      "cell_type": "code",
      "source": [
        "cnt = 0\n",
        "for i in string_lengths:\n",
        "  if i <= 400:\n",
        "    cnt += 1\n",
        "print(cnt / 90164)"
      ],
      "metadata": {
        "colab": {
          "base_uri": "https://localhost:8080/"
        },
        "id": "ZqVxR0QlvxeQ",
        "outputId": "e6aa84f9-0b59-4871-98a8-a6c83e6f8125"
      },
      "id": "ZqVxR0QlvxeQ",
      "execution_count": null,
      "outputs": [
        {
          "output_type": "stream",
          "name": "stdout",
          "text": [
            "0.9943325495763276\n"
          ]
        }
      ]
    },
    {
      "cell_type": "code",
      "source": [
        "# строим гистограмму\n",
        "plt.hist(string_lengths, bins=200, range=(0,1000))\n",
        "plt.xlabel('Длина мнения')\n",
        "plt.ylabel('Частота')\n",
        "plt.show()"
      ],
      "metadata": {
        "colab": {
          "base_uri": "https://localhost:8080/",
          "height": 449
        },
        "id": "iHvn9mq8iBdy",
        "outputId": "501d07c4-8d8e-4ce9-d12c-e5a404b9fe9b"
      },
      "id": "iHvn9mq8iBdy",
      "execution_count": null,
      "outputs": [
        {
          "output_type": "display_data",
          "data": {
            "text/plain": [
              "<Figure size 640x480 with 1 Axes>"
            ],
            "image/png": "[encoded data removed]"
          },
          "metadata": {}
        }
      ]
    },
    {
      "cell_type": "code",
      "execution_count": 10,
      "id": "f63ff4fc",
      "metadata": {
        "colab": {
          "base_uri": "https://localhost:8080/"
        },
        "id": "f63ff4fc",
        "outputId": "73759e7d-cdae-4535-b590-06f3b6898325"
      },
      "outputs": [
        {
          "output_type": "stream",
          "name": "stdout",
          "text": [
            "Found 101741 unique tokens.\n"
          ]
        }
      ],
      "source": [
        "# Preprocess the text data\n",
        "tokenizer = Tokenizer(num_words=70000, oov_token='<OOV>')\n",
        "tokenizer.fit_on_texts(df['preprocess'])\n",
        "sequences = tokenizer.texts_to_sequences(df['preprocess'])\n",
        "word_index = tokenizer.word_index\n",
        "print('Found %s unique tokens.' % len(word_index))\n",
        "max_len = 400\n",
        "data = pad_sequences(sequences, maxlen=max_len)\n",
        "y = to_categorical(df['label'])"
      ]
    },
    {
      "cell_type": "code",
      "execution_count": 11,
      "id": "26d74fa0",
      "metadata": {
        "id": "26d74fa0"
      },
      "outputs": [],
      "source": [
        "# Convert the embeddings to a matrix\n",
        "embedding_dim = 300\n",
        "num_words = min(70000, len(word_index)) + 1\n",
        "embedding_matrix = np.zeros((num_words, embedding_dim))\n",
        "for word, i in word_index.items():\n",
        "    if i >= num_words:\n",
        "        continue\n",
        "    embedding_vector = navec_model.get(word)\n",
        "    if embedding_vector is not None:\n",
        "        embedding_matrix[i] = embedding_vector"
      ]
    },
    {
      "cell_type": "code",
      "source": [
        "# Split the data into train and test sets\n",
        "X_train, data, y_train, y_test = train_test_split(df['preprocess'], df['label'], test_size=0.2, random_state=42)"
      ],
      "metadata": {
        "id": "L5CWtZPmjIyj"
      },
      "id": "L5CWtZPmjIyj",
      "execution_count": 32,
      "outputs": []
    },
    {
      "cell_type": "code",
      "source": [
        "seq1 = tokenizer.texts_to_sequences(data)\n",
        "X_test = pad_sequences(seq1, maxlen=max_len)"
      ],
      "metadata": {
        "id": "GtdHMWCijQM1"
      },
      "id": "GtdHMWCijQM1",
      "execution_count": 33,
      "outputs": []
    },
    {
      "cell_type": "code",
      "source": [
        "y_test"
      ],
      "metadata": {
        "colab": {
          "base_uri": "https://localhost:8080/"
        },
        "id": "5eXYPJtcjnL2",
        "outputId": "2c89ff0b-3a20-4ecb-88f6-c4715ebe16b1"
      },
      "id": "5eXYPJtcjnL2",
      "execution_count": 36,
      "outputs": [
        {
          "output_type": "execute_result",
          "data": {
            "text/plain": [
              "68453    2\n",
              "72016    0\n",
              "33739    2\n",
              "35708    0\n",
              "15766    1\n",
              "        ..\n",
              "13446    0\n",
              "53012    2\n",
              "85013    1\n",
              "43616    0\n",
              "53104    1\n",
              "Name: label, Length: 18033, dtype: int64"
            ]
          },
          "metadata": {},
          "execution_count": 36
        }
      ]
    },
    {
      "cell_type": "code",
      "execution_count": 28,
      "id": "5138694e",
      "metadata": {
        "id": "5138694e"
      },
      "outputs": [],
      "source": [
        "# Split the data into train and test sets\n",
        "X_train, X_test, y_train, y_test = train_test_split(data, df['label'], test_size=0.2, random_state=42)"
      ]
    },
    {
      "cell_type": "code",
      "execution_count": 13,
      "id": "f70ddf6c",
      "metadata": {
        "id": "f70ddf6c"
      },
      "outputs": [],
      "source": [
        "# One-hot encode the labels\n",
        "y = to_categorical(df['label'])\n",
        "y_train = to_categorical(y_train)\n",
        "y_test = to_categorical(y_test)"
      ]
    },
    {
      "cell_type": "code",
      "source": [
        "y_test.sum(axis=0)"
      ],
      "metadata": {
        "colab": {
          "base_uri": "https://localhost:8080/"
        },
        "id": "pCiqPSWfuPJN",
        "outputId": "47eea9ae-994c-4de1-fdd7-e62552791a9e"
      },
      "id": "pCiqPSWfuPJN",
      "execution_count": null,
      "outputs": [
        {
          "output_type": "execute_result",
          "data": {
            "text/plain": [
              "array([3281., 2505., 3231.], dtype=float32)"
            ]
          },
          "metadata": {},
          "execution_count": 70
        }
      ]
    },
    {
      "cell_type": "code",
      "source": [
        "# Define the model architecture\n",
        "model4 = Sequential()\n",
        "model4.add(Embedding(num_words, embedding_dim, weights=[embedding_matrix], input_length=max_len, trainable=True))\n",
        "model4.add(Dropout(0.3))\n",
        "model4.add(Conv1D(400, 5, activation='relu', kernel_regularizer=regularizers.l2(0.001)))\n",
        "model4.add(MaxPooling1D(pool_size=3))\n",
        "model4.add(Conv1D(200, 3, activation='relu', kernel_regularizer=regularizers.l2(0.001)))\n",
        "model4.add(MaxPooling1D(pool_size=3))\n",
        "model4.add(Flatten())\n",
        "model4.add(Dropout(0.3))\n",
        "model4.add(Dense(200, activation='relu', kernel_regularizer=regularizers.l2(0.001)))\n",
        "model4.add(Dense(100, activation='relu', kernel_regularizer=regularizers.l2(0.001)))\n",
        "model4.add(Dropout(0.3))\n",
        "model4.add(Dense(3, activation='softmax'))\n",
        "model4.compile(optimizer=tf.keras.optimizers.Adam(learning_rate=0.0005), loss='categorical_crossentropy', metrics=[tf.keras.metrics.CategoricalAccuracy(name='cat_accuracy'), tf.keras.metrics.Recall(name='recall'), tf.keras.metrics.Precision(name='precision')])"
      ],
      "metadata": {
        "id": "izr8duTGKCR3"
      },
      "id": "izr8duTGKCR3",
      "execution_count": null,
      "outputs": []
    },
    {
      "cell_type": "code",
      "source": [
        "history4 = model4.fit(X_train, y_train, validation_split=0.2, epochs=11, batch_size=96) "
      ],
      "metadata": {
        "colab": {
          "base_uri": "https://localhost:8080/"
        },
        "id": "6SC5RFGxKTvZ",
        "outputId": "8b6e9f2a-153d-48e1-96a1-070bb71ca69d"
      },
      "id": "6SC5RFGxKTvZ",
      "execution_count": null,
      "outputs": [
        {
          "output_type": "stream",
          "name": "stdout",
          "text": [
            "Epoch 1/11\n",
            "677/677 [==============================] - 87s 123ms/step - loss: 1.1497 - cat_accuracy: 0.6141 - recall: 0.4683 - precision: 0.7007 - val_loss: 0.8656 - val_cat_accuracy: 0.7044 - val_recall: 0.6290 - val_precision: 0.7521\n",
            "Epoch 2/11\n",
            "677/677 [==============================] - 58s 85ms/step - loss: 0.7661 - cat_accuracy: 0.7454 - recall: 0.6954 - precision: 0.7803 - val_loss: 0.7225 - val_cat_accuracy: 0.7573 - val_recall: 0.7201 - val_precision: 0.7860\n",
            "Epoch 3/11\n",
            "677/677 [==============================] - 52s 78ms/step - loss: 0.5890 - cat_accuracy: 0.8204 - recall: 0.7943 - precision: 0.8414 - val_loss: 0.6555 - val_cat_accuracy: 0.7892 - val_recall: 0.7669 - val_precision: 0.8099\n",
            "Epoch 4/11\n",
            "677/677 [==============================] - 53s 78ms/step - loss: 0.4617 - cat_accuracy: 0.8707 - recall: 0.8551 - precision: 0.8866 - val_loss: 0.6092 - val_cat_accuracy: 0.8122 - val_recall: 0.7935 - val_precision: 0.8308\n",
            "Epoch 5/11\n",
            "677/677 [==============================] - 50s 74ms/step - loss: 0.3779 - cat_accuracy: 0.9044 - recall: 0.8931 - precision: 0.9141 - val_loss: 0.6009 - val_cat_accuracy: 0.8281 - val_recall: 0.8128 - val_precision: 0.8397\n",
            "Epoch 6/11\n",
            "677/677 [==============================] - 51s 75ms/step - loss: 0.3270 - cat_accuracy: 0.9202 - recall: 0.9123 - precision: 0.9285 - val_loss: 0.6214 - val_cat_accuracy: 0.8295 - val_recall: 0.8181 - val_precision: 0.8388\n",
            "Epoch 7/11\n",
            "677/677 [==============================] - 51s 76ms/step - loss: 0.2890 - cat_accuracy: 0.9329 - recall: 0.9264 - precision: 0.9400 - val_loss: 0.5981 - val_cat_accuracy: 0.8303 - val_recall: 0.8151 - val_precision: 0.8443\n",
            "Epoch 8/11\n",
            "677/677 [==============================] - 52s 77ms/step - loss: 0.2620 - cat_accuracy: 0.9430 - recall: 0.9376 - precision: 0.9483 - val_loss: 0.6097 - val_cat_accuracy: 0.8327 - val_recall: 0.8208 - val_precision: 0.8430\n",
            "Epoch 9/11\n",
            "677/677 [==============================] - 49s 72ms/step - loss: 0.2359 - cat_accuracy: 0.9512 - recall: 0.9469 - precision: 0.9561 - val_loss: 0.6803 - val_cat_accuracy: 0.8234 - val_recall: 0.8148 - val_precision: 0.8321\n",
            "Epoch 10/11\n",
            "677/677 [==============================] - 50s 74ms/step - loss: 0.2200 - cat_accuracy: 0.9554 - recall: 0.9513 - precision: 0.9599 - val_loss: 0.6434 - val_cat_accuracy: 0.8335 - val_recall: 0.8269 - val_precision: 0.8412\n",
            "Epoch 11/11\n",
            "677/677 [==============================] - 49s 73ms/step - loss: 0.2043 - cat_accuracy: 0.9604 - recall: 0.9571 - precision: 0.9639 - val_loss: 0.6434 - val_cat_accuracy: 0.8384 - val_recall: 0.8330 - val_precision: 0.8444\n"
          ]
        }
      ]
    },
    {
      "cell_type": "code",
      "execution_count": null,
      "id": "95263a02",
      "metadata": {
        "scrolled": true,
        "id": "95263a02"
      },
      "outputs": [],
      "source": [
        "# Define the model architecture\n",
        "model = Sequential()\n",
        "model.add(Embedding(num_words, embedding_dim, weights=[embedding_matrix], input_length=max_len, trainable=False))\n",
        "model.add(Dropout(0.2))\n",
        "model.add(Conv1D(256, 3, activation='relu'))\n",
        "model.add(GlobalMaxPooling1D())\n",
        "model.add(Dropout(0.2))\n",
        "model.add(Dense(128, activation='relu', kernel_regularizer=regularizers.l2(0.001)))\n",
        "model.add(Dropout(0.2))\n",
        "model.add(Dense(3, activation='softmax'))\n",
        "model.compile(optimizer=tf.keras.optimizers.Adam(learning_rate=0.001), loss='categorical_crossentropy', metrics=['accuracy'])"
      ]
    },
    {
      "cell_type": "code",
      "source": [
        "!pip install tensorflow_addons"
      ],
      "metadata": {
        "id": "akFsxPhb3QVL"
      },
      "id": "akFsxPhb3QVL",
      "execution_count": null,
      "outputs": []
    },
    {
      "cell_type": "code",
      "source": [
        "import tensorflow_addons as tfa"
      ],
      "metadata": {
        "id": "2xEVgjX03Ldm"
      },
      "id": "2xEVgjX03Ldm",
      "execution_count": null,
      "outputs": []
    },
    {
      "cell_type": "code",
      "source": [
        "# Define the model architecture\n",
        "model5 = Sequential()\n",
        "model5.add(Embedding(num_words, embedding_dim, weights=[embedding_matrix], input_length=max_len, trainable=True))\n",
        "model5.add(Dropout(0.3))\n",
        "model5.add(Conv1D(400, 3, activation='relu', kernel_regularizer=regularizers.l2(0.001)))\n",
        "model5.add(GlobalMaxPooling1D())\n",
        "model5.add(Dropout(0.3))\n",
        "model5.add(Dense(200, activation='relu', kernel_regularizer=regularizers.l2(0.001)))\n",
        "model5.add(Dense(100, activation='relu', kernel_regularizer=regularizers.l2(0.001)))\n",
        "model5.add(Dropout(0.3))\n",
        "model5.add(Dense(3, activation='softmax'))\n",
        "model5.compile(optimizer=tf.keras.optimizers.Adam(learning_rate=0.0005), loss='categorical_crossentropy', metrics=[tf.keras.metrics.CategoricalAccuracy(name='cat_accuracy'), tf.keras.metrics.Recall(name='recall'), tf.keras.metrics.Precision(name='precision'), tfa.metrics.F1Score(name='f1-score', num_classes=3)])"
      ],
      "metadata": {
        "id": "gw3cSqqX0Uhp"
      },
      "id": "gw3cSqqX0Uhp",
      "execution_count": 16,
      "outputs": []
    },
    {
      "cell_type": "code",
      "source": [
        "# Train the model\n",
        "history5 = model5.fit(X_train, y_train, validation_data=(X_test, y_test), epochs=10, batch_size=96)"
      ],
      "metadata": {
        "colab": {
          "base_uri": "https://localhost:8080/"
        },
        "id": "dQ-JcY9a0aTD",
        "outputId": "80a521ef-f748-4038-c029-1071dc9e3d02"
      },
      "id": "dQ-JcY9a0aTD",
      "execution_count": 17,
      "outputs": [
        {
          "output_type": "stream",
          "name": "stdout",
          "text": [
            "Epoch 1/10\n",
            "752/752 [==============================] - 104s 110ms/step - loss: 1.3528 - cat_accuracy: 0.5847 - recall: 0.4170 - precision: 0.6806 - f1-score: 0.5789 - val_loss: 1.0126 - val_cat_accuracy: 0.6922 - val_recall: 0.6061 - val_precision: 0.7477 - val_f1-score: 0.6904\n",
            "Epoch 2/10\n",
            "752/752 [==============================] - 47s 62ms/step - loss: 0.9058 - cat_accuracy: 0.7157 - recall: 0.6496 - precision: 0.7582 - f1-score: 0.7126 - val_loss: 0.7961 - val_cat_accuracy: 0.7469 - val_recall: 0.6979 - val_precision: 0.7814 - val_f1-score: 0.7459\n",
            "Epoch 3/10\n",
            "752/752 [==============================] - 43s 57ms/step - loss: 0.7131 - cat_accuracy: 0.7842 - recall: 0.7439 - precision: 0.8144 - f1-score: 0.7828 - val_loss: 0.6921 - val_cat_accuracy: 0.7894 - val_recall: 0.7551 - val_precision: 0.8167 - val_f1-score: 0.7885\n",
            "Epoch 4/10\n",
            "752/752 [==============================] - 39s 52ms/step - loss: 0.5661 - cat_accuracy: 0.8437 - recall: 0.8198 - precision: 0.8649 - f1-score: 0.8434 - val_loss: 0.6169 - val_cat_accuracy: 0.8201 - val_recall: 0.7957 - val_precision: 0.8426 - val_f1-score: 0.8203\n",
            "Epoch 5/10\n",
            "752/752 [==============================] - 37s 50ms/step - loss: 0.4648 - cat_accuracy: 0.8833 - recall: 0.8679 - precision: 0.8981 - f1-score: 0.8836 - val_loss: 0.5821 - val_cat_accuracy: 0.8409 - val_recall: 0.8267 - val_precision: 0.8539 - val_f1-score: 0.8412\n",
            "Epoch 6/10\n",
            "752/752 [==============================] - 36s 48ms/step - loss: 0.3968 - cat_accuracy: 0.9073 - recall: 0.8961 - precision: 0.9185 - f1-score: 0.9076 - val_loss: 0.5569 - val_cat_accuracy: 0.8529 - val_recall: 0.8377 - val_precision: 0.8663 - val_f1-score: 0.8532\n",
            "Epoch 7/10\n",
            "752/752 [==============================] - 35s 47ms/step - loss: 0.3504 - cat_accuracy: 0.9222 - recall: 0.9143 - precision: 0.9306 - f1-score: 0.9226 - val_loss: 0.5472 - val_cat_accuracy: 0.8540 - val_recall: 0.8419 - val_precision: 0.8662 - val_f1-score: 0.8543\n",
            "Epoch 8/10\n",
            "752/752 [==============================] - 36s 48ms/step - loss: 0.3221 - cat_accuracy: 0.9308 - recall: 0.9233 - precision: 0.9380 - f1-score: 0.9311 - val_loss: 0.5637 - val_cat_accuracy: 0.8543 - val_recall: 0.8454 - val_precision: 0.8633 - val_f1-score: 0.8545\n",
            "Epoch 9/10\n",
            "752/752 [==============================] - 36s 48ms/step - loss: 0.2958 - cat_accuracy: 0.9386 - recall: 0.9327 - precision: 0.9450 - f1-score: 0.9389 - val_loss: 0.5525 - val_cat_accuracy: 0.8563 - val_recall: 0.8479 - val_precision: 0.8660 - val_f1-score: 0.8572\n",
            "Epoch 10/10\n",
            "752/752 [==============================] - 36s 48ms/step - loss: 0.2745 - cat_accuracy: 0.9452 - recall: 0.9403 - precision: 0.9506 - f1-score: 0.9454 - val_loss: 0.5525 - val_cat_accuracy: 0.8631 - val_recall: 0.8558 - val_precision: 0.8721 - val_f1-score: 0.8635\n"
          ]
        }
      ]
    },
    {
      "cell_type": "code",
      "source": [
        "model5.save('/content/drive/MyDrive/Диплом/model5')"
      ],
      "metadata": {
        "colab": {
          "base_uri": "https://localhost:8080/"
        },
        "id": "fj2lFqAtxC9p",
        "outputId": "4b536ddc-ed5c-480a-e270-4c216accb690"
      },
      "id": "fj2lFqAtxC9p",
      "execution_count": 149,
      "outputs": [
        {
          "output_type": "stream",
          "name": "stderr",
          "text": [
            "WARNING:absl:Found untraced functions such as _jit_compiled_convolution_op while saving (showing 1 of 1). These functions will not be directly callable after loading.\n"
          ]
        }
      ]
    },
    {
      "cell_type": "code",
      "source": [
        "import matplotlib.pyplot as plt\n",
        "from sklearn.metrics import confusion_matrix\n",
        "from sklearn.metrics import ConfusionMatrixDisplay"
      ],
      "metadata": {
        "id": "FGu0Xc5010Cb"
      },
      "id": "FGu0Xc5010Cb",
      "execution_count": 23,
      "outputs": []
    },
    {
      "cell_type": "code",
      "source": [
        "y_pred = model5.predict(X_test)"
      ],
      "metadata": {
        "colab": {
          "base_uri": "https://localhost:8080/"
        },
        "id": "z1GFoQH338LZ",
        "outputId": "de393d45-089d-4b3f-8ee9-c0ccfbe52734"
      },
      "id": "z1GFoQH338LZ",
      "execution_count": 37,
      "outputs": [
        {
          "output_type": "stream",
          "name": "stdout",
          "text": [
            "564/564 [==============================] - 2s 4ms/step\n"
          ]
        }
      ]
    },
    {
      "cell_type": "code",
      "source": [
        "predicted_labels = np.argmax(y_pred, axis=1)"
      ],
      "metadata": {
        "id": "jAdKgNwgBSJr"
      },
      "id": "jAdKgNwgBSJr",
      "execution_count": 38,
      "outputs": []
    },
    {
      "cell_type": "code",
      "source": [
        "predicted_labels"
      ],
      "metadata": {
        "colab": {
          "base_uri": "https://localhost:8080/"
        },
        "id": "_ZKw5CsnBs_8",
        "outputId": "f789d7fb-a5ab-4a03-ebb9-635f66f4e3af"
      },
      "id": "_ZKw5CsnBs_8",
      "execution_count": 39,
      "outputs": [
        {
          "output_type": "execute_result",
          "data": {
            "text/plain": [
              "array([2, 0, 2, ..., 1, 0, 1])"
            ]
          },
          "metadata": {},
          "execution_count": 39
        }
      ]
    },
    {
      "cell_type": "code",
      "source": [
        "ConfusionMatrixDisplay.from_predictions(y_test, predicted_labels)\n",
        "plt.show()"
      ],
      "metadata": {
        "colab": {
          "base_uri": "https://localhost:8080/",
          "height": 449
        },
        "id": "nMkfuKAx3fxW",
        "outputId": "3eacf603-62f4-42c7-d3cd-7628030cb787"
      },
      "id": "nMkfuKAx3fxW",
      "execution_count": 40,
      "outputs": [
        {
          "output_type": "display_data",
          "data": {
            "text/plain": [
              "<Figure size 640x480 with 2 Axes>"
            ],
            "image/png": "[encoded data removed]"
          },
          "metadata": {}
        }
      ]
    },
    {
      "cell_type": "code",
      "source": [
        "4484 / 5053"
      ],
      "metadata": {
        "colab": {
          "base_uri": "https://localhost:8080/"
        },
        "id": "ZLZQAozE0bdG",
        "outputId": "116960cc-1bb9-4d6e-b308-9150695b148b"
      },
      "id": "ZLZQAozE0bdG",
      "execution_count": 151,
      "outputs": [
        {
          "output_type": "execute_result",
          "data": {
            "text/plain": [
              "0.8873936275479913"
            ]
          },
          "metadata": {},
          "execution_count": 151
        }
      ]
    },
    {
      "cell_type": "code",
      "source": [
        "5668 / 6547"
      ],
      "metadata": {
        "colab": {
          "base_uri": "https://localhost:8080/"
        },
        "id": "WDgSoSvu0mby",
        "outputId": "0abf1839-d852-4e09-cec8-b166a670ddaa"
      },
      "id": "WDgSoSvu0mby",
      "execution_count": 152,
      "outputs": [
        {
          "output_type": "execute_result",
          "data": {
            "text/plain": [
              "0.865740033603177"
            ]
          },
          "metadata": {},
          "execution_count": 152
        }
      ]
    },
    {
      "cell_type": "code",
      "source": [
        "5412 / 6433"
      ],
      "metadata": {
        "colab": {
          "base_uri": "https://localhost:8080/"
        },
        "id": "GsvqEFer0mgL",
        "outputId": "6c6a3e4a-4f67-4037-a472-1cc6b826ad37"
      },
      "id": "GsvqEFer0mgL",
      "execution_count": 153,
      "outputs": [
        {
          "output_type": "execute_result",
          "data": {
            "text/plain": [
              "0.8412871133219337"
            ]
          },
          "metadata": {},
          "execution_count": 153
        }
      ]
    },
    {
      "cell_type": "code",
      "source": [
        "mat = confusion_matrix(y_test, predicted_labels)"
      ],
      "metadata": {
        "id": "yOgUKJEY1F0e"
      },
      "id": "yOgUKJEY1F0e",
      "execution_count": 154,
      "outputs": []
    },
    {
      "cell_type": "code",
      "source": [
        "type(mat)"
      ],
      "metadata": {
        "colab": {
          "base_uri": "https://localhost:8080/"
        },
        "id": "EBF-RjGF1LYm",
        "outputId": "c0429538-c642-4a2c-b428-eea7f69fbd01"
      },
      "id": "EBF-RjGF1LYm",
      "execution_count": 156,
      "outputs": [
        {
          "output_type": "execute_result",
          "data": {
            "text/plain": [
              "numpy.ndarray"
            ]
          },
          "metadata": {},
          "execution_count": 156
        }
      ]
    },
    {
      "cell_type": "code",
      "source": [
        "preds = pd.Series(predicted_labels)\n",
        "labs = pd.Series(y_test)"
      ],
      "metadata": {
        "id": "Tfi-mtpHkYwR"
      },
      "id": "Tfi-mtpHkYwR",
      "execution_count": 68,
      "outputs": []
    },
    {
      "cell_type": "code",
      "source": [
        "frame = {'preprocess': data,\n",
        "         'true': labs, 'pred': preds}"
      ],
      "metadata": {
        "id": "CDCCr32uk5ab"
      },
      "id": "CDCCr32uk5ab",
      "execution_count": 86,
      "outputs": []
    },
    {
      "cell_type": "code",
      "source": [
        "labs.value_counts()"
      ],
      "metadata": {
        "colab": {
          "base_uri": "https://localhost:8080/"
        },
        "id": "hupTrhzHm-78",
        "outputId": "5fddcd1f-2799-4c2b-95e9-767b910abbb1"
      },
      "id": "hupTrhzHm-78",
      "execution_count": 150,
      "outputs": [
        {
          "output_type": "execute_result",
          "data": {
            "text/plain": [
              "0    6547\n",
              "2    6433\n",
              "1    5053\n",
              "Name: label, dtype: int64"
            ]
          },
          "metadata": {},
          "execution_count": 150
        }
      ]
    },
    {
      "cell_type": "code",
      "source": [
        "preds.index = labs.index"
      ],
      "metadata": {
        "id": "7ekshWiKlo69"
      },
      "id": "7ekshWiKlo69",
      "execution_count": 82,
      "outputs": []
    },
    {
      "cell_type": "code",
      "source": [
        "test_df = pd.DataFrame(frame, index = preds.index)"
      ],
      "metadata": {
        "id": "OI-8wT7Vimbu"
      },
      "id": "OI-8wT7Vimbu",
      "execution_count": 87,
      "outputs": []
    },
    {
      "cell_type": "code",
      "source": [
        "test_df['preprocess'] = data"
      ],
      "metadata": {
        "id": "7ZTpoFE4k0Q3"
      },
      "id": "7ZTpoFE4k0Q3",
      "execution_count": 57,
      "outputs": []
    },
    {
      "cell_type": "code",
      "source": [
        "test_df.shape"
      ],
      "metadata": {
        "colab": {
          "base_uri": "https://localhost:8080/"
        },
        "id": "ZboK5NFtoctW",
        "outputId": "190a53dd-b1ab-45c5-b335-b243f6faef92"
      },
      "id": "ZboK5NFtoctW",
      "execution_count": 92,
      "outputs": [
        {
          "output_type": "execute_result",
          "data": {
            "text/plain": [
              "(18033, 3)"
            ]
          },
          "metadata": {},
          "execution_count": 92
        }
      ]
    },
    {
      "cell_type": "code",
      "source": [
        "temp1 = test_df[test_df.pred == 0]\n",
        "temp2 = temp1[temp1.true == 2]\n",
        "for i in temp2.sample(frac=0.01)['preprocess']:\n",
        "  print(i)\n",
        "  print()"
      ],
      "metadata": {
        "id": "5JNwpN6coKfl"
      },
      "id": "5JNwpN6coKfl",
      "execution_count": null,
      "outputs": []
    },
    {
      "cell_type": "code",
      "source": [
        "temp2.shape"
      ],
      "metadata": {
        "colab": {
          "base_uri": "https://localhost:8080/"
        },
        "id": "kdczAnWvpsCU",
        "outputId": "6a8016c5-f813-40c9-f4c4-aabc2a5baf5c"
      },
      "id": "kdczAnWvpsCU",
      "execution_count": 146,
      "outputs": [
        {
          "output_type": "execute_result",
          "data": {
            "text/plain": [
              "(760, 3)"
            ]
          },
          "metadata": {},
          "execution_count": 146
        }
      ]
    },
    {
      "cell_type": "code",
      "source": [
        "# Define the model architecture\n",
        "model3 = Sequential()\n",
        "model3.add(Embedding(num_words, embedding_dim, weights=[embedding_matrix], input_length=max_len, trainable=False))\n",
        "model3.add(Dropout(0.3))\n",
        "model3.add(Conv1D(400, 3, activation='relu', kernel_regularizer=regularizers.l2(0.001)))\n",
        "model3.add(GlobalMaxPooling1D())\n",
        "model3.add(Dropout(0.3))\n",
        "model3.add(Dense(200, activation='relu', kernel_regularizer=regularizers.l2(0.001)))\n",
        "model3.add(Dense(100, activation='relu', kernel_regularizer=regularizers.l2(0.001)))\n",
        "model3.add(Dropout(0.3))\n",
        "model3.add(Dense(3, activation='softmax'))\n",
        "model3.compile(optimizer=tf.keras.optimizers.Adam(learning_rate=0.0005), loss='categorical_crossentropy', metrics=[tf.keras.metrics.CategoricalAccuracy(), tf.keras.metrics.Recall(), tf.keras.metrics.Precision()])"
      ],
      "metadata": {
        "id": "JkY2dTNPSvDR"
      },
      "id": "JkY2dTNPSvDR",
      "execution_count": null,
      "outputs": []
    },
    {
      "cell_type": "code",
      "source": [
        "# Train the model\n",
        "history3 = model3.fit(X_train, y_train, validation_split=0.2, epochs=11, batch_size=96) "
      ],
      "metadata": {
        "colab": {
          "base_uri": "https://localhost:8080/"
        },
        "id": "KDGEgyFvTYvW",
        "outputId": "cf6a967e-981b-44e8-a65a-c8af8d8386ec"
      },
      "id": "KDGEgyFvTYvW",
      "execution_count": null,
      "outputs": [
        {
          "output_type": "stream",
          "name": "stdout",
          "text": [
            "Epoch 1/11\n",
            "677/677 [==============================] - 22s 30ms/step - loss: 1.4301 - categorical_accuracy: 0.5485 - recall_5: 0.3522 - precision_5: 0.6505 - val_loss: 1.1525 - val_categorical_accuracy: 0.6269 - val_recall_5: 0.5221 - val_precision_5: 0.6964\n",
            "Epoch 2/11\n",
            "677/677 [==============================] - 20s 30ms/step - loss: 1.0675 - categorical_accuracy: 0.6379 - recall_5: 0.5285 - precision_5: 0.7025 - val_loss: 0.9784 - val_categorical_accuracy: 0.6555 - val_recall_5: 0.5701 - val_precision_5: 0.7115\n",
            "Epoch 3/11\n",
            "677/677 [==============================] - 20s 29ms/step - loss: 0.9557 - categorical_accuracy: 0.6612 - recall_5: 0.5688 - precision_5: 0.7178 - val_loss: 0.8933 - val_categorical_accuracy: 0.6866 - val_recall_5: 0.5969 - val_precision_5: 0.7422\n",
            "Epoch 4/11\n",
            "677/677 [==============================] - 21s 31ms/step - loss: 0.9113 - categorical_accuracy: 0.6728 - recall_5: 0.5874 - precision_5: 0.7247 - val_loss: 0.8736 - val_categorical_accuracy: 0.6932 - val_recall_5: 0.5884 - val_precision_5: 0.7574\n",
            "Epoch 5/11\n",
            "677/677 [==============================] - 20s 29ms/step - loss: 0.8851 - categorical_accuracy: 0.6850 - recall_5: 0.6080 - precision_5: 0.7319 - val_loss: 0.8646 - val_categorical_accuracy: 0.6917 - val_recall_5: 0.6256 - val_precision_5: 0.7376\n",
            "Epoch 6/11\n",
            "677/677 [==============================] - 20s 30ms/step - loss: 0.8714 - categorical_accuracy: 0.6907 - recall_5: 0.6191 - precision_5: 0.7367 - val_loss: 0.8489 - val_categorical_accuracy: 0.7067 - val_recall_5: 0.6506 - val_precision_5: 0.7427\n",
            "Epoch 7/11\n",
            "677/677 [==============================] - 21s 31ms/step - loss: 0.8611 - categorical_accuracy: 0.6991 - recall_5: 0.6314 - precision_5: 0.7416 - val_loss: 0.8436 - val_categorical_accuracy: 0.7123 - val_recall_5: 0.6380 - val_precision_5: 0.7607\n",
            "Epoch 8/11\n",
            "677/677 [==============================] - 20s 29ms/step - loss: 0.8540 - categorical_accuracy: 0.7075 - recall_5: 0.6419 - precision_5: 0.7496 - val_loss: 0.8543 - val_categorical_accuracy: 0.7028 - val_recall_5: 0.6457 - val_precision_5: 0.7448\n",
            "Epoch 9/11\n",
            "677/677 [==============================] - 20s 29ms/step - loss: 0.8448 - categorical_accuracy: 0.7130 - recall_5: 0.6523 - precision_5: 0.7532 - val_loss: 0.8380 - val_categorical_accuracy: 0.7194 - val_recall_5: 0.6497 - val_precision_5: 0.7613\n",
            "Epoch 10/11\n",
            "677/677 [==============================] - 20s 29ms/step - loss: 0.8401 - categorical_accuracy: 0.7189 - recall_5: 0.6602 - precision_5: 0.7589 - val_loss: 0.8745 - val_categorical_accuracy: 0.6996 - val_recall_5: 0.6444 - val_precision_5: 0.7374\n",
            "Epoch 11/11\n",
            "677/677 [==============================] - 20s 30ms/step - loss: 0.8347 - categorical_accuracy: 0.7204 - recall_5: 0.6663 - precision_5: 0.7602 - val_loss: 0.8610 - val_categorical_accuracy: 0.7058 - val_recall_5: 0.6623 - val_precision_5: 0.7388\n"
          ]
        }
      ]
    },
    {
      "cell_type": "code",
      "source": [
        "# Evaluate the model on the test set\n",
        "loss, accuracy, recall, precision = model3.evaluate(X_test, y_test)\n",
        "print('Test accuracy:', accuracy)\n",
        "print('Test recall:', recall)\n",
        "print('Test precision:', precision)"
      ],
      "metadata": {
        "colab": {
          "base_uri": "https://localhost:8080/"
        },
        "id": "PKLOwE2if_D2",
        "outputId": "797d5f97-3292-4eae-d525-37a2357464ab"
      },
      "id": "PKLOwE2if_D2",
      "execution_count": null,
      "outputs": [
        {
          "output_type": "stream",
          "name": "stdout",
          "text": [
            "282/282 [==============================] - 2s 6ms/step - loss: 0.8618 - categorical_accuracy: 0.7091 - recall_5: 0.6652 - precision_5: 0.7415\n",
            "Test accuracy: 0.7091050148010254\n",
            "Test recall: 0.6651879549026489\n",
            "Test precision: 0.7415007948875427\n"
          ]
        }
      ]
    },
    {
      "cell_type": "code",
      "source": [
        "# Define the model architecture\n",
        "model_RMSprop = Sequential()\n",
        "model_RMSprop.add(Embedding(num_words, embedding_dim, weights=[embedding_matrix], input_length=max_len, trainable=True))\n",
        "model_RMSprop.add(Dropout(0.3))\n",
        "model_RMSprop.add(Conv1D(400, 3, activation='relu', kernel_regularizer=regularizers.l2(0.001)))\n",
        "model_RMSprop.add(GlobalMaxPooling1D())\n",
        "model_RMSprop.add(Dropout(0.3))\n",
        "model_RMSprop.add(Dense(200, activation='relu', kernel_regularizer=regularizers.l2(0.001)))\n",
        "model_RMSprop.add(Dense(100, activation='relu', kernel_regularizer=regularizers.l2(0.001)))\n",
        "model_RMSprop.add(Dropout(0.3))\n",
        "model_RMSprop.add(Dense(3, activation='softmax'))\n",
        "model_RMSprop.compile(optimizer=tf.keras.optimizers.RMSprop(learning_rate=0.0005), loss='categorical_crossentropy', metrics=[tf.keras.metrics.CategoricalAccuracy(), tf.keras.metrics.Recall(), tf.keras.metrics.Precision()])"
      ],
      "metadata": {
        "id": "BwjTpuGwobkn"
      },
      "id": "BwjTpuGwobkn",
      "execution_count": null,
      "outputs": []
    },
    {
      "cell_type": "code",
      "source": [
        "# Train the model\n",
        "history_RMSprop = model_RMSprop.fit(X_train, y_train, validation_split=0.2, epochs=11, batch_size=96) "
      ],
      "metadata": {
        "colab": {
          "base_uri": "https://localhost:8080/"
        },
        "id": "nb1WAXrGodgM",
        "outputId": "65108632-ce04-4f1b-954a-c42e26d4b880"
      },
      "id": "nb1WAXrGodgM",
      "execution_count": null,
      "outputs": [
        {
          "output_type": "stream",
          "name": "stdout",
          "text": [
            "Epoch 1/11\n",
            "677/677 [==============================] - 67s 96ms/step - loss: 1.3780 - categorical_accuracy: 0.5586 - recall_8: 0.3696 - precision_8: 0.6561 - val_loss: 1.0804 - val_categorical_accuracy: 0.6436 - val_recall_8: 0.5359 - val_precision_8: 0.7116\n",
            "Epoch 2/11\n",
            "677/677 [==============================] - 36s 53ms/step - loss: 0.9901 - categorical_accuracy: 0.6608 - recall_8: 0.5662 - precision_8: 0.7176 - val_loss: 0.9041 - val_categorical_accuracy: 0.6835 - val_recall_8: 0.6107 - val_precision_8: 0.7347\n",
            "Epoch 3/11\n",
            "677/677 [==============================] - 33s 49ms/step - loss: 0.8764 - categorical_accuracy: 0.6919 - recall_8: 0.6177 - precision_8: 0.7413 - val_loss: 0.8406 - val_categorical_accuracy: 0.7017 - val_recall_8: 0.6463 - val_precision_8: 0.7362\n",
            "Epoch 4/11\n",
            "677/677 [==============================] - 34s 50ms/step - loss: 0.8203 - categorical_accuracy: 0.7131 - recall_8: 0.6481 - precision_8: 0.7546 - val_loss: 0.7903 - val_categorical_accuracy: 0.7273 - val_recall_8: 0.6723 - val_precision_8: 0.7635\n",
            "Epoch 5/11\n",
            "677/677 [==============================] - 31s 46ms/step - loss: 0.7787 - categorical_accuracy: 0.7315 - recall_8: 0.6761 - precision_8: 0.7702 - val_loss: 0.7603 - val_categorical_accuracy: 0.7402 - val_recall_8: 0.6847 - val_precision_8: 0.7782\n",
            "Epoch 6/11\n",
            "677/677 [==============================] - 31s 45ms/step - loss: 0.7544 - categorical_accuracy: 0.7440 - recall_8: 0.6952 - precision_8: 0.7811 - val_loss: 0.7643 - val_categorical_accuracy: 0.7431 - val_recall_8: 0.6892 - val_precision_8: 0.7772\n",
            "Epoch 7/11\n",
            "677/677 [==============================] - 31s 45ms/step - loss: 0.7365 - categorical_accuracy: 0.7547 - recall_8: 0.7097 - precision_8: 0.7880 - val_loss: 0.7705 - val_categorical_accuracy: 0.7441 - val_recall_8: 0.7115 - val_precision_8: 0.7677\n",
            "Epoch 8/11\n",
            "677/677 [==============================] - 30s 44ms/step - loss: 0.7190 - categorical_accuracy: 0.7638 - recall_8: 0.7226 - precision_8: 0.7965 - val_loss: 0.7608 - val_categorical_accuracy: 0.7498 - val_recall_8: 0.7189 - val_precision_8: 0.7786\n",
            "Epoch 9/11\n",
            "677/677 [==============================] - 30s 44ms/step - loss: 0.7057 - categorical_accuracy: 0.7729 - recall_8: 0.7345 - precision_8: 0.8036 - val_loss: 0.7378 - val_categorical_accuracy: 0.7612 - val_recall_8: 0.7250 - val_precision_8: 0.7886\n",
            "Epoch 10/11\n",
            "677/677 [==============================] - 30s 44ms/step - loss: 0.6923 - categorical_accuracy: 0.7820 - recall_8: 0.7470 - precision_8: 0.8101 - val_loss: 0.7340 - val_categorical_accuracy: 0.7651 - val_recall_8: 0.7252 - val_precision_8: 0.7942\n",
            "Epoch 11/11\n",
            "677/677 [==============================] - 29s 43ms/step - loss: 0.6818 - categorical_accuracy: 0.7886 - recall_8: 0.7547 - precision_8: 0.8147 - val_loss: 0.7806 - val_categorical_accuracy: 0.7498 - val_recall_8: 0.7155 - val_precision_8: 0.7759\n"
          ]
        }
      ]
    },
    {
      "cell_type": "code",
      "source": [
        "# Train the model\n",
        "history_RMSprop = model_RMSprop.fit(X_train, y_train, validation_split=0.2, epochs=4, batch_size=96) "
      ],
      "metadata": {
        "colab": {
          "base_uri": "https://localhost:8080/"
        },
        "id": "y1ft5v4cqbd0",
        "outputId": "7abc2d3d-c196-4e55-c424-83d6cb2a24df"
      },
      "id": "y1ft5v4cqbd0",
      "execution_count": null,
      "outputs": [
        {
          "output_type": "stream",
          "name": "stdout",
          "text": [
            "Epoch 1/4\n",
            "677/677 [==============================] - 29s 43ms/step - loss: 0.6684 - categorical_accuracy: 0.7970 - recall_8: 0.7667 - precision_8: 0.8232 - val_loss: 0.7615 - val_categorical_accuracy: 0.7616 - val_recall_8: 0.7309 - val_precision_8: 0.7820\n",
            "Epoch 2/4\n",
            "677/677 [==============================] - 29s 43ms/step - loss: 0.6561 - categorical_accuracy: 0.8044 - recall_8: 0.7747 - precision_8: 0.8293 - val_loss: 0.7395 - val_categorical_accuracy: 0.7689 - val_recall_8: 0.7442 - val_precision_8: 0.7924\n",
            "Epoch 3/4\n",
            "677/677 [==============================] - 28s 42ms/step - loss: 0.6455 - categorical_accuracy: 0.8114 - recall_8: 0.7831 - precision_8: 0.8349 - val_loss: 0.7485 - val_categorical_accuracy: 0.7675 - val_recall_8: 0.7389 - val_precision_8: 0.7907\n",
            "Epoch 4/4\n",
            "677/677 [==============================] - 29s 43ms/step - loss: 0.6354 - categorical_accuracy: 0.8174 - recall_8: 0.7910 - precision_8: 0.8388 - val_loss: 0.7929 - val_categorical_accuracy: 0.7569 - val_recall_8: 0.7275 - val_precision_8: 0.7754\n"
          ]
        }
      ]
    },
    {
      "cell_type": "code",
      "execution_count": null,
      "id": "901acb91",
      "metadata": {
        "id": "901acb91"
      },
      "outputs": [],
      "source": [
        "# Define the model architecture\n",
        "model2 = Sequential()\n",
        "model2.add(Embedding(num_words, embedding_dim, weights=[embedding_matrix], input_length=max_len, trainable=True))\n",
        "model2.add(Dropout(0.3))\n",
        "model2.add(Conv1D(400, 3, activation='relu', kernel_regularizer=regularizers.l2(0.001)))\n",
        "model2.add(GlobalMaxPooling1D())\n",
        "model2.add(Dropout(0.3))\n",
        "model2.add(Dense(200, activation='relu', kernel_regularizer=regularizers.l2(0.001)))\n",
        "model2.add(Dense(100, activation='relu', kernel_regularizer=regularizers.l2(0.001)))\n",
        "model2.add(Dropout(0.3))\n",
        "model2.add(Dense(3, activation='softmax'))\n",
        "model2.compile(optimizer=tf.keras.optimizers.Adam(learning_rate=0.0005), loss='categorical_crossentropy', metrics=[tf.keras.metrics.CategoricalAccuracy(name='cat_accuracy'), tf.keras.metrics.Recall(name='recall'), tf.keras.metrics.Precision(name='precision'), tfa.metrics.F1Score(name='f1-score', num_classes=3)])"
      ]
    },
    {
      "cell_type": "markdown",
      "source": [],
      "metadata": {
        "id": "esbkCxkBzges"
      },
      "id": "esbkCxkBzges"
    },
    {
      "cell_type": "code",
      "execution_count": null,
      "id": "93009ba1",
      "metadata": {
        "colab": {
          "base_uri": "https://localhost:8080/"
        },
        "id": "93009ba1",
        "outputId": "9be1867a-598f-46eb-e5b7-46d49ba76fc5"
      },
      "outputs": [
        {
          "output_type": "stream",
          "name": "stdout",
          "text": [
            "Epoch 1/11\n",
            "677/677 [==============================] - 73s 104ms/step - loss: 1.3856 - cat_accuracy: 0.5769 - recall: 0.3969 - precision: 0.6751 - f1-score: 0.5701 - val_loss: 1.0427 - val_cat_accuracy: 0.6940 - val_recall: 0.6100 - val_precision: 0.7503 - val_f1-score: 0.6904\n",
            "Epoch 2/11\n",
            "677/677 [==============================] - 42s 62ms/step - loss: 0.9467 - cat_accuracy: 0.7096 - recall: 0.6421 - precision: 0.7525 - f1-score: 0.7061 - val_loss: 0.8432 - val_cat_accuracy: 0.7352 - val_recall: 0.6863 - val_precision: 0.7683 - val_f1-score: 0.7338\n",
            "Epoch 3/11\n",
            "677/677 [==============================] - 39s 58ms/step - loss: 0.7534 - cat_accuracy: 0.7724 - recall: 0.7308 - precision: 0.8028 - f1-score: 0.7705 - val_loss: 0.7410 - val_cat_accuracy: 0.7704 - val_recall: 0.7280 - val_precision: 0.8037 - val_f1-score: 0.7695\n",
            "Epoch 4/11\n",
            "677/677 [==============================] - 38s 57ms/step - loss: 0.6030 - cat_accuracy: 0.8332 - recall: 0.8074 - precision: 0.8545 - f1-score: 0.8325 - val_loss: 0.6818 - val_cat_accuracy: 0.7988 - val_recall: 0.7709 - val_precision: 0.8233 - val_f1-score: 0.7982\n",
            "Epoch 5/11\n",
            "677/677 [==============================] - 37s 54ms/step - loss: 0.4932 - cat_accuracy: 0.8744 - recall: 0.8586 - precision: 0.8912 - f1-score: 0.8742 - val_loss: 0.6360 - val_cat_accuracy: 0.8171 - val_recall: 0.7893 - val_precision: 0.8414 - val_f1-score: 0.8169\n",
            "Epoch 6/11\n",
            "677/677 [==============================] - 38s 57ms/step - loss: 0.4215 - cat_accuracy: 0.9008 - recall: 0.8891 - precision: 0.9124 - f1-score: 0.9010 - val_loss: 0.6134 - val_cat_accuracy: 0.8348 - val_recall: 0.8168 - val_precision: 0.8493 - val_f1-score: 0.8350\n",
            "Epoch 7/11\n",
            "677/677 [==============================] - 38s 56ms/step - loss: 0.3653 - cat_accuracy: 0.9193 - recall: 0.9101 - precision: 0.9289 - f1-score: 0.9195 - val_loss: 0.6312 - val_cat_accuracy: 0.8322 - val_recall: 0.8187 - val_precision: 0.8463 - val_f1-score: 0.8322\n",
            "Epoch 8/11\n",
            "677/677 [==============================] - 38s 56ms/step - loss: 0.3302 - cat_accuracy: 0.9318 - recall: 0.9243 - precision: 0.9396 - f1-score: 0.9320 - val_loss: 0.6205 - val_cat_accuracy: 0.8372 - val_recall: 0.8246 - val_precision: 0.8476 - val_f1-score: 0.8376\n",
            "Epoch 9/11\n",
            "677/677 [==============================] - 37s 54ms/step - loss: 0.3059 - cat_accuracy: 0.9376 - recall: 0.9317 - precision: 0.9438 - f1-score: 0.9379 - val_loss: 0.6093 - val_cat_accuracy: 0.8386 - val_recall: 0.8285 - val_precision: 0.8496 - val_f1-score: 0.8394\n",
            "Epoch 10/11\n",
            "677/677 [==============================] - 37s 55ms/step - loss: 0.2821 - cat_accuracy: 0.9447 - recall: 0.9395 - precision: 0.9506 - f1-score: 0.9450 - val_loss: 0.6193 - val_cat_accuracy: 0.8438 - val_recall: 0.8363 - val_precision: 0.8524 - val_f1-score: 0.8443\n",
            "Epoch 11/11\n",
            "677/677 [==============================] - 36s 54ms/step - loss: 0.2650 - cat_accuracy: 0.9502 - recall: 0.9452 - precision: 0.9555 - f1-score: 0.9503 - val_loss: 0.6203 - val_cat_accuracy: 0.8425 - val_recall: 0.8330 - val_precision: 0.8507 - val_f1-score: 0.8432\n"
          ]
        }
      ],
      "source": [
        "# Train the model\n",
        "history2 = model2.fit(X_train, y_train, validation_split=0.2, epochs=11, batch_size=96) "
      ]
    },
    {
      "cell_type": "code",
      "execution_count": null,
      "id": "0daa5501",
      "metadata": {
        "scrolled": false,
        "colab": {
          "base_uri": "https://localhost:8080/"
        },
        "id": "0daa5501",
        "outputId": "e3123b08-5040-48a0-8b8e-e97fd8b45203"
      },
      "outputs": [
        {
          "output_type": "stream",
          "name": "stdout",
          "text": [
            "282/282 [==============================] - 2s 6ms/step - loss: 0.6313 - categorical_accuracy: 0.8483 - recall_3: 0.8391 - precision_3: 0.8548\n",
            "Test accuracy: 0.8482865691184998\n",
            "Test recall: 0.8390817642211914\n",
            "Test precision: 0.8548186421394348\n"
          ]
        }
      ],
      "source": [
        "# Evaluate the model on the test set\n",
        "loss, accuracy, recall, precision = model2.evaluate(X_test, y_test)\n",
        "print('Test accuracy:', accuracy)\n",
        "print('Test recall:', recall)\n",
        "print('Test precision:', precision)"
      ]
    },
    {
      "cell_type": "code",
      "execution_count": null,
      "id": "30b02a2b",
      "metadata": {
        "id": "30b02a2b",
        "outputId": "3defb6d3-f872-40ef-9d82-b74f5fcf6c37",
        "colab": {
          "base_uri": "https://localhost:8080/"
        }
      },
      "outputs": [
        {
          "output_type": "stream",
          "name": "stderr",
          "text": [
            "WARNING:absl:Found untraced functions such as _jit_compiled_convolution_op while saving (showing 1 of 1). These functions will not be directly callable after loading.\n"
          ]
        }
      ],
      "source": [
        "model2.save('/content/drive/MyDrive/Диплом/model400_70000nw_nonstatic')"
      ]
    },
    {
      "cell_type": "code",
      "execution_count": null,
      "id": "d0952fcb",
      "metadata": {
        "id": "d0952fcb"
      },
      "outputs": [],
      "source": [
        "restored = load_model('/content/drive/MyDrive/Диплом/model400_70000nw_nonstatic')"
      ]
    },
    {
      "cell_type": "code",
      "execution_count": null,
      "id": "7374c58e",
      "metadata": {
        "id": "7374c58e",
        "outputId": "413e6384-30a7-49e8-e831-63aa3e428737",
        "colab": {
          "base_uri": "https://localhost:8080/"
        }
      },
      "outputs": [
        {
          "output_type": "stream",
          "name": "stdout",
          "text": [
            "282/282 [==============================] - 2s 6ms/step - loss: 0.6450 - accuracy: 0.8470\n",
            "Test accuracy: 0.8469557762145996\n"
          ]
        }
      ],
      "source": [
        "# Evaluate the model on the test set\n",
        "loss, accuracy = restored.evaluate(X_test, y_test)\n",
        "print('Test accuracy:', accuracy)"
      ]
    },
    {
      "cell_type": "code",
      "execution_count": null,
      "id": "fcfdb402",
      "metadata": {
        "id": "fcfdb402",
        "outputId": "e7c2f1ea-8bc8-4ce5-bf2c-177a868053a2"
      },
      "outputs": [
        {
          "name": "stderr",
          "output_type": "stream",
          "text": [
            "WARNING:absl:Found untraced functions such as _jit_compiled_convolution_op while saving (showing 1 of 1). These functions will not be directly callable after loading.\n"
          ]
        },
        {
          "name": "stdout",
          "output_type": "stream",
          "text": [
            "INFO:tensorflow:Assets written to: ./models/non_static\\assets\n"
          ]
        },
        {
          "name": "stderr",
          "output_type": "stream",
          "text": [
            "INFO:tensorflow:Assets written to: ./models/non_static\\assets\n"
          ]
        }
      ],
      "source": [
        "model2.save('./models/non_static')"
      ]
    },
    {
      "cell_type": "code",
      "execution_count": null,
      "id": "f8c294c6",
      "metadata": {
        "id": "f8c294c6"
      },
      "outputs": [],
      "source": [
        "import matplotlib.pyplot as plt"
      ]
    },
    {
      "cell_type": "code",
      "source": [
        "f1score_history_np = np.array(f1score_history)\n",
        "val_f1score_history_np = np.array(val_f1score_history)"
      ],
      "metadata": {
        "id": "suxT63hWCN69"
      },
      "id": "suxT63hWCN69",
      "execution_count": null,
      "outputs": []
    },
    {
      "cell_type": "code",
      "source": [
        "A[:, 0]"
      ],
      "metadata": {
        "colab": {
          "base_uri": "https://localhost:8080/"
        },
        "id": "UehZvj2sDsaC",
        "outputId": "bf38f741-f96e-466b-c425-67d135c4bfe7"
      },
      "id": "UehZvj2sDsaC",
      "execution_count": null,
      "outputs": [
        {
          "output_type": "execute_result",
          "data": {
            "text/plain": [
              "array([0.622573  , 0.74671936, 0.80051994, 0.8510735 , 0.8872189 ,\n",
              "       0.91113424, 0.92436695, 0.93470865, 0.94162166, 0.94958556],\n",
              "      dtype=float32)"
            ]
          },
          "metadata": {},
          "execution_count": 73
        }
      ]
    },
    {
      "cell_type": "code",
      "execution_count": null,
      "id": "87f65adc",
      "metadata": {
        "id": "87f65adc"
      },
      "outputs": [],
      "source": [
        "# Получение истории значений функции потерь и точности\n",
        "history2 = history5\n",
        "loss_history = history2.history['loss']\n",
        "val_accuracy_history = history2.history['val_cat_accuracy']\n",
        "accuracy_history = history2.history['cat_accuracy']\n",
        "val_recall_history = history2.history['val_recall']\n",
        "recall_history = history2.history['recall']\n",
        "val_precision_history = history2.history['val_precision']\n",
        "precision_history = history2.history['precision']\n",
        "val_f1score_history = history2.history['val_f1-score']\n",
        "f1score_history = history2.history['f1-score']\n",
        "# Создание массива шагов\n",
        "epochs = range(1, len(loss_history) + 1)"
      ]
    },
    {
      "cell_type": "code",
      "execution_count": null,
      "id": "032241b8",
      "metadata": {
        "colab": {
          "base_uri": "https://localhost:8080/",
          "height": 472
        },
        "id": "032241b8",
        "outputId": "d138c146-1b31-4902-d3de-dfe47ae5a439"
      },
      "outputs": [
        {
          "output_type": "display_data",
          "data": {
            "text/plain": [
              "<Figure size 640x480 with 1 Axes>"
            ],
            "image/png": "[encoded data removed]"
          },
          "metadata": {}
        }
      ],
      "source": [
        "# Построение графика изменения точности на валидационной выборке\n",
        "plt.plot(epochs, accuracy_history, marker='o', color='r', label='Training Accuracy')\n",
        "plt.plot(epochs, val_accuracy_history, marker='o', color='b', label='Validation Accuracy')\n",
        "plt.title('Accuracy')\n",
        "plt.xlabel('Epochs')\n",
        "plt.ylabel('Accuracy')\n",
        "plt.legend()\n",
        "plt.show()"
      ]
    },
    {
      "cell_type": "code",
      "source": [
        "# Построение графика изменения recall на обучающей выборке\n",
        "plt.plot(epochs, recall_history, marker='o',  color='r', label='Training Recall')\n",
        "plt.plot(epochs, val_recall_history, marker='o', color='b', label='Validation Recall')\n",
        "plt.title('Recall')\n",
        "plt.xlabel('Epochs')\n",
        "plt.ylabel('Recall')\n",
        "plt.legend()\n",
        "plt.show()"
      ],
      "metadata": {
        "colab": {
          "base_uri": "https://localhost:8080/",
          "height": 472
        },
        "id": "4mGD6GH5ZhRM",
        "outputId": "bcb8b2e9-6f86-4cf0-8b04-84aa34a0426a"
      },
      "id": "4mGD6GH5ZhRM",
      "execution_count": null,
      "outputs": [
        {
          "output_type": "display_data",
          "data": {
            "text/plain": [
              "<Figure size 640x480 with 1 Axes>"
            ],
            "image/png": "[encoded data removed]"
          },
          "metadata": {}
        }
      ]
    },
    {
      "cell_type": "code",
      "source": [
        "# Построение графика изменения precision на обучающей выборке\n",
        "plt.plot(epochs, precision_history, marker='o', color='r', label='Training Precision')\n",
        "plt.plot(epochs, val_precision_history, marker='o', color='b', label='Validation Precision')\n",
        "plt.title('Precision')\n",
        "plt.xlabel('Epochs')\n",
        "plt.ylabel('Precision')\n",
        "plt.legend()\n",
        "plt.show()"
      ],
      "metadata": {
        "colab": {
          "base_uri": "https://localhost:8080/",
          "height": 472
        },
        "id": "EV3ihuV2Zitw",
        "outputId": "768f8952-7d2a-47cb-dd39-1824ef0af053"
      },
      "id": "EV3ihuV2Zitw",
      "execution_count": null,
      "outputs": [
        {
          "output_type": "display_data",
          "data": {
            "text/plain": [
              "<Figure size 640x480 with 1 Axes>"
            ],
            "image/png": "[encoded data removed]"
          },
          "metadata": {}
        }
      ]
    },
    {
      "cell_type": "code",
      "source": [
        "# Построение графика изменения f1-score на обучающей выборке\n",
        "plt.plot(epochs, f1score_history_np[:, 0], marker='o', color='r', label='Training f1-score')\n",
        "plt.plot(epochs, val_f1score_history_np[:, 0], marker='o', color='b', label='Validation f1-score')\n",
        "plt.title('f1-score')\n",
        "plt.xlabel('Epochs')\n",
        "plt.ylabel('f1-score')\n",
        "plt.legend()\n",
        "plt.show()"
      ],
      "metadata": {
        "colab": {
          "base_uri": "https://localhost:8080/",
          "height": 472
        },
        "id": "bDOLKu-YA_kP",
        "outputId": "dca21fff-7e9a-4cbe-8406-aa848355cf7e"
      },
      "id": "bDOLKu-YA_kP",
      "execution_count": null,
      "outputs": [
        {
          "output_type": "display_data",
          "data": {
            "text/plain": [
              "<Figure size 640x480 with 1 Axes>"
            ],
            "image/png": "[encoded data removed]"
          },
          "metadata": {}
        }
      ]
    },
    {
      "cell_type": "code",
      "source": [
        "# Построение графика изменения f1-score на обучающей выборке\n",
        "plt.plot(epochs, f1score_history_np[:, 0], marker='o', color='r', label='Training f1-score for negative opinions')\n",
        "plt.plot(epochs, val_f1score_history_np[:, 0], marker='o', color='b', label='Validation f1-score for negative opinions')\n",
        "plt.plot(epochs, f1score_history_np[:, 1], marker='o', color='g', label='Training f1-score for positive opinions')\n",
        "plt.plot(epochs, val_f1score_history_np[:, 1], marker='o', color='y', label='Validation f1-score for positive opinions')\n",
        "plt.plot(epochs, f1score_history_np[:, 2], linestyle='dashed', marker='o', color='grey', label='Training f1-score for neutral opinions')\n",
        "plt.plot(epochs, val_f1score_history_np[:, 2], linestyle='dashed', marker='o', color='brown', label='Validation f1-score for neutral opinions')\n",
        "plt.title('f1-score')\n",
        "plt.xlabel('Epochs')\n",
        "plt.ylabel('f1-score')\n",
        "plt.legend()\n",
        "plt.show()"
      ],
      "metadata": {
        "colab": {
          "base_uri": "https://localhost:8080/",
          "height": 472
        },
        "id": "QZPaGXevEQjI",
        "outputId": "3fc0db6b-d4b1-4b6c-a0ea-ea862440dbc6"
      },
      "id": "QZPaGXevEQjI",
      "execution_count": null,
      "outputs": [
        {
          "output_type": "display_data",
          "data": {
            "text/plain": [
              "<Figure size 640x480 with 1 Axes>"
            ],
            "image/png": "[encoded data removed]"
          },
          "metadata": {}
        }
      ]
    },
    {
      "cell_type": "code",
      "source": [
        "!pip install nlpaug"
      ],
      "metadata": {
        "colab": {
          "base_uri": "https://localhost:8080/"
        },
        "id": "686xGZSKMbXU",
        "outputId": "e99f19b1-06df-44da-c697-e5f435277cda"
      },
      "id": "686xGZSKMbXU",
      "execution_count": 18,
      "outputs": [
        {
          "output_type": "stream",
          "name": "stdout",
          "text": [
            "Looking in indexes: https://pypi.org/simple, https://us-python.pkg.dev/colab-wheels/public/simple/\n",
            "Collecting nlpaug\n",
            "  Downloading nlpaug-1.1.11-py3-none-any.whl (410 kB)\n",
            "\u001b[2K     \u001b[90m━━━━━━━━━━━━━━━━━━━━━━━━━━━━━━━━━━━━━━━\u001b[0m \u001b[32m410.5/410.5 kB\u001b[0m \u001b[31m9.1 MB/s\u001b[0m eta \u001b[36m0:00:00\u001b[0m\n",
            "\u001b[?25hRequirement already satisfied: numpy>=1.16.2 in /usr/local/lib/python3.10/dist-packages (from nlpaug) (1.22.4)\n",
            "Requirement already satisfied: pandas>=1.2.0 in /usr/local/lib/python3.10/dist-packages (from nlpaug) (1.5.3)\n",
            "Requirement already satisfied: requests>=2.22.0 in /usr/local/lib/python3.10/dist-packages (from nlpaug) (2.27.1)\n",
            "Requirement already satisfied: gdown>=4.0.0 in /usr/local/lib/python3.10/dist-packages (from nlpaug) (4.6.6)\n",
            "Requirement already satisfied: filelock in /usr/local/lib/python3.10/dist-packages (from gdown>=4.0.0->nlpaug) (3.12.0)\n",
            "Requirement already satisfied: six in /usr/local/lib/python3.10/dist-packages (from gdown>=4.0.0->nlpaug) (1.16.0)\n",
            "Requirement already satisfied: tqdm in /usr/local/lib/python3.10/dist-packages (from gdown>=4.0.0->nlpaug) (4.65.0)\n",
            "Requirement already satisfied: beautifulsoup4 in /usr/local/lib/python3.10/dist-packages (from gdown>=4.0.0->nlpaug) (4.11.2)\n",
            "Requirement already satisfied: python-dateutil>=2.8.1 in /usr/local/lib/python3.10/dist-packages (from pandas>=1.2.0->nlpaug) (2.8.2)\n",
            "Requirement already satisfied: pytz>=2020.1 in /usr/local/lib/python3.10/dist-packages (from pandas>=1.2.0->nlpaug) (2022.7.1)\n",
            "Requirement already satisfied: urllib3<1.27,>=1.21.1 in /usr/local/lib/python3.10/dist-packages (from requests>=2.22.0->nlpaug) (1.26.15)\n",
            "Requirement already satisfied: certifi>=2017.4.17 in /usr/local/lib/python3.10/dist-packages (from requests>=2.22.0->nlpaug) (2022.12.7)\n",
            "Requirement already satisfied: charset-normalizer~=2.0.0 in /usr/local/lib/python3.10/dist-packages (from requests>=2.22.0->nlpaug) (2.0.12)\n",
            "Requirement already satisfied: idna<4,>=2.5 in /usr/local/lib/python3.10/dist-packages (from requests>=2.22.0->nlpaug) (3.4)\n",
            "Requirement already satisfied: soupsieve>1.2 in /usr/local/lib/python3.10/dist-packages (from beautifulsoup4->gdown>=4.0.0->nlpaug) (2.4.1)\n",
            "Requirement already satisfied: PySocks!=1.5.7,>=1.5.6 in /usr/local/lib/python3.10/dist-packages (from requests>=2.22.0->nlpaug) (1.7.1)\n",
            "Installing collected packages: nlpaug\n",
            "Successfully installed nlpaug-1.1.11\n"
          ]
        }
      ]
    },
    {
      "cell_type": "code",
      "source": [
        "import pandas as pd\n",
        "import nlpaug.augmenter.word as naw\n",
        "import nlpaug.flow as naf"
      ],
      "metadata": {
        "id": "O3QK8Kn7KXZu"
      },
      "id": "O3QK8Kn7KXZu",
      "execution_count": 19,
      "outputs": []
    },
    {
      "cell_type": "code",
      "source": [
        "df.label.value_counts()"
      ],
      "metadata": {
        "colab": {
          "base_uri": "https://localhost:8080/"
        },
        "id": "NJ4plC3YTiK2",
        "outputId": "f62e71d1-e4bb-41ec-8693-9218f9626ab4"
      },
      "id": "NJ4plC3YTiK2",
      "execution_count": 20,
      "outputs": [
        {
          "output_type": "execute_result",
          "data": {
            "text/plain": [
              "0    32886\n",
              "2    32395\n",
              "1    24883\n",
              "Name: label, dtype: int64"
            ]
          },
          "metadata": {},
          "execution_count": 20
        }
      ]
    },
    {
      "cell_type": "code",
      "source": [
        "df.shape"
      ],
      "metadata": {
        "colab": {
          "base_uri": "https://localhost:8080/"
        },
        "id": "HeZZZ9UP197Y",
        "outputId": "675efe16-37f9-44d2-a868-45209a28851f"
      },
      "id": "HeZZZ9UP197Y",
      "execution_count": null,
      "outputs": [
        {
          "output_type": "execute_result",
          "data": {
            "text/plain": [
              "(90164, 4)"
            ]
          },
          "metadata": {},
          "execution_count": 38
        }
      ]
    },
    {
      "cell_type": "code",
      "source": [
        "df1 = df[df.label == 1].sample(frac=1, ignore_index=True)\n",
        "df1.shape"
      ],
      "metadata": {
        "colab": {
          "base_uri": "https://localhost:8080/"
        },
        "id": "EMayG9q2LXUF",
        "outputId": "96f45230-8cac-4f1c-eec8-5aed6f6e7ab9"
      },
      "id": "EMayG9q2LXUF",
      "execution_count": null,
      "outputs": [
        {
          "output_type": "execute_result",
          "data": {
            "text/plain": [
              "(12454, 4)"
            ]
          },
          "metadata": {},
          "execution_count": 61
        }
      ]
    },
    {
      "cell_type": "code",
      "source": [
        "df1 = df.sample(frac=0.1, ignore_index=True)\n",
        "df1['label'].value_counts()"
      ],
      "metadata": {
        "colab": {
          "base_uri": "https://localhost:8080/"
        },
        "id": "BSCuZxZMfoh5",
        "outputId": "e2c20e4a-ea33-4e27-e98b-766847e6ab67"
      },
      "id": "BSCuZxZMfoh5",
      "execution_count": 22,
      "outputs": [
        {
          "output_type": "execute_result",
          "data": {
            "text/plain": [
              "2    3278\n",
              "0    3268\n",
              "1    2470\n",
              "Name: label, dtype: int64"
            ]
          },
          "metadata": {},
          "execution_count": 22
        }
      ]
    },
    {
      "cell_type": "code",
      "source": [
        "!gzip -d /content/drive/MyDrive/Диплом/ppdb-1.0-xxxl-ccg.gz"
      ],
      "metadata": {
        "id": "lMpNqj9yQ6UZ"
      },
      "id": "lMpNqj9yQ6UZ",
      "execution_count": null,
      "outputs": []
    },
    {
      "cell_type": "code",
      "source": [
        "# Initialize the augmentation object\n",
        "\n",
        "#aug = naw.SynonymAug(aug_src='ppdb', model_path='/content/drive/MyDrive/Диплом/ppdb-1.0-xxxl-ccg', aug_p=1, lang='rus')\n",
        "\n",
        "# Define the augmentation flow\n",
        "flow = naf.Sequential([\n",
        "    naw.RandomWordAug(action='delete', aug_p=0.1),\n",
        "    naw.RandomWordAug(action='swap', aug_p=0.2)\n",
        "])\n",
        "\n",
        "# Define the function to apply augmentation to text data\n",
        "def augment_text(text):\n",
        "    return flow.augment(text)\n",
        "\n",
        "# Add a new column to the dataframe with augmented text\n",
        "df1['augmented_text'] = df1['tweet_text'].apply(augment_text)"
      ],
      "metadata": {
        "id": "N9G60qYbK2DB"
      },
      "id": "N9G60qYbK2DB",
      "execution_count": null,
      "outputs": []
    },
    {
      "cell_type": "code",
      "source": [
        "import nlpaug.augmenter.word as naw\n",
        "import nlpaug.flow as naf\n",
        "\n",
        "# Define the augmentation flow\n",
        "flow = naf.Sequential([\n",
        "    naw.RandomWordAug(action='delete', aug_p=0.1),\n",
        "    naw.RandomWordAug(action='swap', aug_p=0.2)\n",
        "])\n",
        "\n",
        "# Define the function to apply augmentation to text data\n",
        "def augment_text(text):\n",
        "    return flow.augment(text)\n",
        "\n",
        "# Add a new column to the dataframe with augmented text\n",
        "df['augmented_text'] = df['tweet_text'].apply(augment_text)"
      ],
      "metadata": {
        "id": "Nn3BGOHouVc5"
      },
      "id": "Nn3BGOHouVc5",
      "execution_count": null,
      "outputs": []
    },
    {
      "cell_type": "code",
      "source": [
        "df1.shape"
      ],
      "metadata": {
        "colab": {
          "base_uri": "https://localhost:8080/"
        },
        "id": "rJoDHaGKJAb5",
        "outputId": "9056210b-d5ad-4172-a9cc-4b2279ee8355"
      },
      "id": "rJoDHaGKJAb5",
      "execution_count": null,
      "outputs": [
        {
          "output_type": "execute_result",
          "data": {
            "text/plain": [
              "(12454, 5)"
            ]
          },
          "metadata": {},
          "execution_count": 64
        }
      ]
    },
    {
      "cell_type": "code",
      "source": [
        "df1.tweet_text[0]"
      ],
      "metadata": {
        "id": "8LCM4DWdSW0s"
      },
      "id": "8LCM4DWdSW0s",
      "execution_count": null,
      "outputs": []
    },
    {
      "cell_type": "code",
      "source": [
        "df1.augmented_text[0]"
      ],
      "metadata": {
        "id": "xp7DjgR7S_7m"
      },
      "id": "xp7DjgR7S_7m",
      "execution_count": null,
      "outputs": []
    },
    {
      "cell_type": "code",
      "source": [
        "# Save the augmented dataframe to a new CSV file\n",
        "df1.to_csv('/content/drive/MyDrive/Диплом/aug1_12000.csv', index=False)"
      ],
      "metadata": {
        "id": "fYBOMK4jMOi1"
      },
      "id": "fYBOMK4jMOi1",
      "execution_count": null,
      "outputs": []
    }
  ],
  "metadata": {
    "colab": {
      "provenance": [],
      "gpuType": "T4",
      "include_colab_link": true
    },
    "gpuClass": "standard",
    "kernelspec": {
      "display_name": "Python 3 (ipykernel)",
      "language": "python",
      "name": "python3"
    },
    "language_info": {
      "codemirror_mode": {
        "name": "ipython",
        "version": 3
      },
      "file_extension": ".py",
      "mimetype": "text/x-python",
      "name": "python",
      "nbconvert_exporter": "python",
      "pygments_lexer": "ipython3",
      "version": "3.9.13"
    },
    "accelerator": "GPU"
  },
  "nbformat": 4,
  "nbformat_minor": 5
}